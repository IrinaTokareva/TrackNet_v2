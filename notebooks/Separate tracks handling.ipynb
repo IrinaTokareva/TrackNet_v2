{
 "cells": [
  {
   "cell_type": "code",
   "execution_count": 3,
   "metadata": {},
   "outputs": [],
   "source": [
    "import itertools\n",
    "import tensorflow as tf\n",
    "import pandas as pd\n",
    "import numpy as np\n",
    "import tqdm\n",
    "import sys\n",
    "# Local software setup\n",
    "sys.path.append('..')\n",
    "\n",
    "from tensorflow.keras.models import load_model\n",
    "from scipy.spatial.distance import euclidean\n",
    "\n",
    "from src.losses import custom_loss\n",
    "from src.metrics import point_in_ellipse\n",
    "from src.metrics import point_in_ellipse_numpy\n",
    "from src.metrics import circle_area\n",
    "from src.data_utils import sample_vertices\n",
    "from src.data_utils import read_vertex_file\n",
    "\n",
    "RANDOM_SEED = 13"
   ]
  },
  {
   "cell_type": "code",
   "execution_count": 234,
   "metadata": {},
   "outputs": [],
   "source": [
    "path_to_model = \"../data/models/tracknetv2_no_epoch100_eff9870_hits9967_loss2949_pie9863_area3.0235.h5\"\n",
    "custom_objects = {\n",
    "    \"_tracknet_loss\": custom_loss,\n",
    "    \"point_in_ellipse\": point_in_ellipse,\n",
    "    \"circle_area\": circle_area}\n",
    "\n",
    "model = load_model(path_to_model, custom_objects=custom_objects)"
   ]
  },
  {
   "cell_type": "markdown",
   "metadata": {},
   "source": [
    "## Load data"
   ]
  },
  {
   "cell_type": "markdown",
   "metadata": {},
   "source": [
    "#### Train"
   ]
  },
  {
   "cell_type": "code",
   "execution_count": 5,
   "metadata": {},
   "outputs": [],
   "source": [
    "from src.data_utils import read_train_dataset"
   ]
  },
  {
   "cell_type": "code",
   "execution_count": 224,
   "metadata": {},
   "outputs": [
    {
     "name": "stdout",
     "output_type": "stream",
     "text": [
      "Processing `../data/train\\CC4GeVmb_100_n50k.tsv` file...\n"
     ]
    },
    {
     "name": "stderr",
     "output_type": "stream",
     "text": [
      "100%|████████████████████████████████████████████████████████████████████████| 219334/219334 [00:38<00:00, 5735.87it/s]\n",
      "100%|███████████████████████████████████████████████████████████████████████| 219334/219334 [00:04<00:00, 44579.91it/s]\n"
     ]
    },
    {
     "name": "stdout",
     "output_type": "stream",
     "text": [
      "Processing `../data/train\\CC4GeVmb_101_n50k.tsv` file...\n"
     ]
    },
    {
     "name": "stderr",
     "output_type": "stream",
     "text": [
      "100%|████████████████████████████████████████████████████████████████████████| 220076/220076 [00:37<00:00, 5856.98it/s]\n",
      "100%|███████████████████████████████████████████████████████████████████████| 220076/220076 [00:04<00:00, 48581.88it/s]\n"
     ]
    },
    {
     "name": "stdout",
     "output_type": "stream",
     "text": [
      "Processing `../data/train\\CC4GeVmb_102_n50k.tsv` file...\n"
     ]
    },
    {
     "name": "stderr",
     "output_type": "stream",
     "text": [
      "100%|████████████████████████████████████████████████████████████████████████| 220422/220422 [00:41<00:00, 5251.14it/s]\n",
      "100%|███████████████████████████████████████████████████████████████████████| 220422/220422 [00:04<00:00, 52369.32it/s]\n"
     ]
    },
    {
     "name": "stdout",
     "output_type": "stream",
     "text": [
      "Processing `../data/train\\CC4GeVmb_103_n50k.tsv` file...\n"
     ]
    },
    {
     "name": "stderr",
     "output_type": "stream",
     "text": [
      "100%|████████████████████████████████████████████████████████████████████████| 219262/219262 [00:39<00:00, 5517.69it/s]\n",
      "100%|███████████████████████████████████████████████████████████████████████| 219262/219262 [00:06<00:00, 34562.09it/s]\n"
     ]
    },
    {
     "name": "stdout",
     "output_type": "stream",
     "text": [
      "Processing `../data/train\\CC4GeVmb_104_n50k.tsv` file...\n"
     ]
    },
    {
     "name": "stderr",
     "output_type": "stream",
     "text": [
      "100%|████████████████████████████████████████████████████████████████████████| 220049/220049 [00:41<00:00, 5306.09it/s]\n",
      "100%|███████████████████████████████████████████████████████████████████████| 220049/220049 [00:06<00:00, 35606.64it/s]\n"
     ]
    },
    {
     "name": "stdout",
     "output_type": "stream",
     "text": [
      "Processing `../data/train\\CC4GeVmb_105_n50k.tsv` file...\n"
     ]
    },
    {
     "name": "stderr",
     "output_type": "stream",
     "text": [
      "100%|████████████████████████████████████████████████████████████████████████| 219576/219576 [00:41<00:00, 5254.14it/s]\n",
      "100%|███████████████████████████████████████████████████████████████████████| 219576/219576 [00:04<00:00, 44592.71it/s]\n"
     ]
    },
    {
     "name": "stdout",
     "output_type": "stream",
     "text": [
      "Processing `../data/train\\CC4GeVmb_106_n50k.tsv` file...\n"
     ]
    },
    {
     "name": "stderr",
     "output_type": "stream",
     "text": [
      "100%|████████████████████████████████████████████████████████████████████████| 218909/218909 [00:41<00:00, 5321.46it/s]\n",
      "100%|███████████████████████████████████████████████████████████████████████| 218909/218909 [00:05<00:00, 37860.35it/s]\n"
     ]
    },
    {
     "name": "stdout",
     "output_type": "stream",
     "text": [
      "Processing `../data/train\\CC4GeVmb_107_n50k.tsv` file...\n"
     ]
    },
    {
     "name": "stderr",
     "output_type": "stream",
     "text": [
      "100%|████████████████████████████████████████████████████████████████████████| 219320/219320 [00:44<00:00, 4966.82it/s]\n",
      "100%|███████████████████████████████████████████████████████████████████████| 219320/219320 [00:06<00:00, 33632.89it/s]\n"
     ]
    },
    {
     "name": "stdout",
     "output_type": "stream",
     "text": [
      "--[read_train_dataset] took 507.70 seconds to run.\n",
      "\n"
     ]
    }
   ],
   "source": [
    "train_data = read_train_dataset(\n",
    "    \"../data/train/\", \n",
    "    vertex_fname=None, \n",
    "    random_seed=RANDOM_SEED)"
   ]
  },
  {
   "cell_type": "code",
   "execution_count": 225,
   "metadata": {},
   "outputs": [
    {
     "name": "stdout",
     "output_type": "stream",
     "text": [
      "Processing `../data/test\\CC4GeVmb_108_n50k.tsv` file...\n"
     ]
    },
    {
     "name": "stderr",
     "output_type": "stream",
     "text": [
      "100%|████████████████████████████████████████████████████████████████████████| 219772/219772 [00:44<00:00, 4983.49it/s]\n",
      "100%|███████████████████████████████████████████████████████████████████████| 219772/219772 [00:04<00:00, 44714.61it/s]\n"
     ]
    },
    {
     "name": "stdout",
     "output_type": "stream",
     "text": [
      "Processing `../data/test\\CC4GeVmb_109_n50k.tsv` file...\n"
     ]
    },
    {
     "name": "stderr",
     "output_type": "stream",
     "text": [
      "100%|████████████████████████████████████████████████████████████████████████| 218951/218951 [00:47<00:00, 4629.86it/s]\n",
      "100%|███████████████████████████████████████████████████████████████████████| 218951/218951 [00:05<00:00, 40145.11it/s]\n"
     ]
    },
    {
     "name": "stdout",
     "output_type": "stream",
     "text": [
      "Processing `../data/test\\CC4GeVmb_110_n50k.tsv` file...\n"
     ]
    },
    {
     "name": "stderr",
     "output_type": "stream",
     "text": [
      "100%|████████████████████████████████████████████████████████████████████████| 219663/219663 [00:43<00:00, 5027.42it/s]\n",
      "100%|███████████████████████████████████████████████████████████████████████| 219663/219663 [00:05<00:00, 43147.33it/s]\n"
     ]
    },
    {
     "name": "stdout",
     "output_type": "stream",
     "text": [
      "--[read_train_dataset] took 209.23 seconds to run.\n",
      "\n"
     ]
    }
   ],
   "source": [
    "test_data = read_train_dataset(\n",
    "    \"../data/test/\", \n",
    "    vertex_fname=None, \n",
    "    random_seed=RANDOM_SEED)"
   ]
  },
  {
   "cell_type": "markdown",
   "metadata": {},
   "source": [
    "### Get buckets with tracks of different length"
   ]
  },
  {
   "cell_type": "code",
   "execution_count": 230,
   "metadata": {},
   "outputs": [],
   "source": [
    "def get_tracklens(data):\n",
    "    # nonzero rows\n",
    "    nonzero = np.count_nonzero(data, axis=-1)\n",
    "    return np.sum(nonzero > 0, axis=1)"
   ]
  },
  {
   "cell_type": "code",
   "execution_count": 231,
   "metadata": {},
   "outputs": [],
   "source": [
    "train_tracklens = get_tracklens(train_data)\n",
    "test_tracklens = get_tracklens(test_data)"
   ]
  },
  {
   "cell_type": "code",
   "execution_count": 232,
   "metadata": {},
   "outputs": [
    {
     "name": "stdout",
     "output_type": "stream",
     "text": [
      "Buckets for testing\n",
      "3 : 67625\n",
      "4 : 44349\n",
      "5 : 43225\n",
      "6 : 503187\n"
     ]
    }
   ],
   "source": [
    "ulen = np.unique(test_tracklens)\n",
    "buckets = {x: np.where(test_tracklens==x)[0] for x in ulen}\n",
    "\n",
    "print('Buckets for testing')\n",
    "for k in buckets.keys():\n",
    "    print(k, ':', len(buckets[k]))"
   ]
  },
  {
   "cell_type": "markdown",
   "metadata": {},
   "source": [
    "## Calculate hit accuracy and efficiency for tracks with different length"
   ]
  },
  {
   "cell_type": "code",
   "execution_count": 239,
   "metadata": {},
   "outputs": [],
   "source": [
    "from src.metrics import calc_metrics\n",
    "from src.data_utils import get_part"
   ]
  },
  {
   "cell_type": "markdown",
   "metadata": {},
   "source": [
    "### Fixed vertex"
   ]
  },
  {
   "cell_type": "code",
   "execution_count": 117,
   "metadata": {},
   "outputs": [
    {
     "name": "stdout",
     "output_type": "stream",
     "text": [
      "Test on buckets\n",
      "Tracklen: 4\n",
      "\tBucket size: 67625\n",
      "\tAccuracy: 0.4160\n",
      "\tHit accuracy: 0.2608\n",
      "Tracklen: 5\n",
      "\tBucket size: 44349\n",
      "\tAccuracy: 0.4911\n",
      "\tHit accuracy: 0.4775\n",
      "Tracklen: 6\n",
      "\tBucket size: 43225\n",
      "\tAccuracy: 0.5673\n",
      "\tHit accuracy: 0.6968\n",
      "Tracklen: 7\n",
      "\tBucket size: 503187\n",
      "\tAccuracy: 0.9594\n",
      "\tHit accuracy: 0.9918\n"
     ]
    }
   ],
   "source": [
    "accs, hit_accs = [], []\n",
    "\n",
    "print('Test on buckets')\n",
    "for k in buckets.keys():\n",
    "    print('Tracklen: %d' % k)\n",
    "    acc, hit_acc = calc_metrics(\n",
    "        test_data[buckets[k]], \n",
    "        model, \n",
    "        tracklen=k)\n",
    "    print('\\tBucket size: %d' % len(buckets[k]))\n",
    "    print('\\tAccuracy: %.4f' % acc)\n",
    "    print('\\tHit accuracy: %.4f' % hit_acc)\n",
    "    accs.append(acc)\n",
    "    hit_accs.append(hit_acc)"
   ]
  },
  {
   "cell_type": "markdown",
   "metadata": {},
   "source": [
    "### No vertex"
   ]
  },
  {
   "cell_type": "code",
   "execution_count": 236,
   "metadata": {},
   "outputs": [
    {
     "name": "stdout",
     "output_type": "stream",
     "text": [
      "Test on buckets\n",
      "Tracklen: 3\n",
      "\tBucket size: 67625\n",
      "\tAccuracy: 0.9332\n",
      "\tHit accuracy: 0.2333\n",
      "Tracklen: 4\n",
      "\tBucket size: 44349\n",
      "\tAccuracy: 0.7220\n",
      "\tHit accuracy: 0.4285\n",
      "Tracklen: 5\n",
      "\tBucket size: 43225\n",
      "\tAccuracy: 0.7230\n",
      "\tHit accuracy: 0.6757\n",
      "Tracklen: 6\n",
      "\tBucket size: 503187\n",
      "\tAccuracy: 0.9868\n",
      "\tHit accuracy: 0.9967\n"
     ]
    }
   ],
   "source": [
    "accs, hit_accs = [], []\n",
    "\n",
    "print('Test on buckets')\n",
    "for k in buckets.keys():\n",
    "    print('Tracklen: %d' % k)\n",
    "    acc, hit_acc = calc_metrics(\n",
    "        test_data[buckets[k]], \n",
    "        model, \n",
    "        tracklen=k)\n",
    "    print('\\tBucket size: %d' % len(buckets[k]))\n",
    "    print('\\tAccuracy: %.4f' % acc)\n",
    "    print('\\tHit accuracy: %.4f' % hit_acc)\n",
    "    accs.append(acc)\n",
    "    hit_accs.append(hit_acc)"
   ]
  },
  {
   "cell_type": "markdown",
   "metadata": {},
   "source": [
    "## Plot results"
   ]
  },
  {
   "cell_type": "code",
   "execution_count": 215,
   "metadata": {},
   "outputs": [],
   "source": [
    "import matplotlib.pyplot as plt\n",
    "import numpy as np\n",
    "\n",
    "%matplotlib inline"
   ]
  },
  {
   "cell_type": "markdown",
   "metadata": {},
   "source": [
    "### Fixed vertex"
   ]
  },
  {
   "cell_type": "code",
   "execution_count": 222,
   "metadata": {},
   "outputs": [
    {
     "data": {
      "image/png": "[encoded data removed]",
      "text/plain": [
       "<Figure size 576x432 with 1 Axes>"
      ]
     },
     "metadata": {
      "needs_background": "light"
     },
     "output_type": "display_data"
    }
   ],
   "source": [
    "fig, ax = plt.subplots(figsize=(8, 6))\n",
    "\n",
    "# tracks lengths\n",
    "train_ulen, train_usize = np.unique(train_tracklens, return_counts=True)\n",
    "test_ulen, test_usize = np.unique(test_tracklens, return_counts=True)\n",
    "\n",
    "# normed sizes\n",
    "normed_train_usize = train_usize / len(train_data)\n",
    "normed_test_usize = test_usize / len(train_data)\n",
    "\n",
    "# plot train\n",
    "ax.bar(train_ulen, normed_train_usize, align='center', width=0.5, color='deepskyblue')\n",
    "ax.scatter(train_ulen, normed_train_usize, zorder=10)\n",
    "for x,y,s in zip(train_ulen, normed_train_usize, train_usize):\n",
    "    ax.text(x+0.05, y+0.01, '%.E' % s, fontsize=12)\n",
    "# plot test\n",
    "ax.bar(test_ulen, normed_test_usize, align='center', width=0.5, color='steelblue')\n",
    "ax.scatter(test_ulen, normed_test_usize, zorder=10)\n",
    "for x,y,s in zip(test_ulen, normed_test_usize, test_usize):\n",
    "    ax.text(x+0.05, y+0.01, '%.E' % s, fontsize=12)\n",
    "# metrics\n",
    "ax.plot(ulen, accs, marker='s', color='red')\n",
    "ax.plot(ulen, hit_accs, marker='d', color='green')\n",
    "\n",
    "# set up plot\n",
    "ax.set_xticks(ulen)\n",
    "plt.legend(['test accuracy', 'test hit accuracy', 'train', 'test'])\n",
    "ax.set_xlabel('Tracks lengths', fontsize=14)\n",
    "ax.set_ylabel('Ratio', fontsize=14)\n",
    "\n",
    "plt.tight_layout()\n",
    "plt.grid()\n",
    "\n",
    "# save plot\n",
    "plt.savefig('Metrics_fix_vertex.png', dpi=300)\n",
    "plt.show()"
   ]
  },
  {
   "cell_type": "markdown",
   "metadata": {},
   "source": [
    "### No vertex"
   ]
  },
  {
   "cell_type": "code",
   "execution_count": 237,
   "metadata": {},
   "outputs": [
    {
     "data": {
      "image/png": "[encoded data removed]",
      "text/plain": [
       "<Figure size 576x432 with 1 Axes>"
      ]
     },
     "metadata": {
      "needs_background": "light"
     },
     "output_type": "display_data"
    }
   ],
   "source": [
    "fig, ax = plt.subplots(figsize=(8, 6))\n",
    "\n",
    "# tracks lengths\n",
    "train_ulen, train_usize = np.unique(train_tracklens, return_counts=True)\n",
    "test_ulen, test_usize = np.unique(test_tracklens, return_counts=True)\n",
    "\n",
    "# normed sizes\n",
    "normed_train_usize = train_usize / len(train_data)\n",
    "normed_test_usize = test_usize / len(train_data)\n",
    "\n",
    "# plot train\n",
    "ax.bar(train_ulen, normed_train_usize, align='center', width=0.5, color='deepskyblue')\n",
    "ax.scatter(train_ulen, normed_train_usize, zorder=10)\n",
    "for x,y,s in zip(train_ulen, normed_train_usize, train_usize):\n",
    "    ax.text(x+0.05, y+0.01, '%.E' % s, fontsize=12)\n",
    "# plot test\n",
    "ax.bar(test_ulen, normed_test_usize, align='center', width=0.5, color='steelblue')\n",
    "ax.scatter(test_ulen, normed_test_usize, zorder=10)\n",
    "for x,y,s in zip(test_ulen, normed_test_usize, test_usize):\n",
    "    ax.text(x+0.05, y+0.01, '%.E' % s, fontsize=12)\n",
    "# metrics\n",
    "ax.plot(ulen, accs, marker='s', color='red')\n",
    "ax.plot(ulen, hit_accs, marker='d', color='green')\n",
    "\n",
    "# set up plot\n",
    "ax.set_xticks(ulen)\n",
    "plt.legend(['test accuracy', 'test hit accuracy', 'train', 'test'])\n",
    "ax.set_xlabel('Tracks lengths', fontsize=14)\n",
    "ax.set_ylabel('Ratio', fontsize=14)\n",
    "\n",
    "plt.tight_layout()\n",
    "plt.grid()\n",
    "\n",
    "# save plot\n",
    "plt.savefig('Metrics_no_vertex.png', dpi=300)\n",
    "plt.show()"
   ]
  }
 ],
 "metadata": {
  "kernelspec": {
   "display_name": "Python 3",
   "language": "python",
   "name": "python3"
  },
  "language_info": {
   "codemirror_mode": {
    "name": "ipython",
    "version": 3
   },
   "file_extension": ".py",
   "mimetype": "text/x-python",
   "name": "python",
   "nbconvert_exporter": "python",
   "pygments_lexer": "ipython3",
   "version": "3.7.3"
  }
 },
 "nbformat": 4,
 "nbformat_minor": 2
}
